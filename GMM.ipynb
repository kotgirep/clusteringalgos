{
  "nbformat": 4,
  "nbformat_minor": 0,
  "metadata": {
    "colab": {
      "name": "GMM.ipynb",
      "provenance": [],
      "authorship_tag": "ABX9TyOdmIeTy4j3618kgircRY7J",
      "include_colab_link": true
    },
    "kernelspec": {
      "name": "python3",
      "display_name": "Python 3"
    },
    "language_info": {
      "name": "python"
    }
  },
  "cells": [
    {
      "cell_type": "markdown",
      "metadata": {
        "id": "view-in-github",
        "colab_type": "text"
      },
      "source": [
        "<a href=\"https://colab.research.google.com/github/kotgirep/clusteringalgos/blob/main/GMM.ipynb\" target=\"_parent\"><img src=\"https://colab.research.google.com/assets/colab-badge.svg\" alt=\"Open In Colab\"/></a>"
      ]
    },
    {
      "cell_type": "markdown",
      "metadata": {
        "id": "DAI0aSc2VakE"
      },
      "source": [
        "Data set: Covid 19 patients data set downloaded from Kaggle.\n",
        "\n",
        "Business value: Helpful for people or organizations who are keeping track of covid 19 patients record.( like hospitals )\n",
        "\n",
        "In this assignment, I am applying Gaussian mixture model algoritham to my covid19 patients dataset and selectiong other algoritham which is Birch and in the last comparing this recent clustering with previous k-means."
      ]
    },
    {
      "cell_type": "markdown",
      "metadata": {
        "id": "iJc9qBKtHjwZ"
      },
      "source": [
        "Importing Libraries"
      ]
    },
    {
      "cell_type": "code",
      "metadata": {
        "id": "oiae2kdgD8kB"
      },
      "source": [
        "# Import the required libraries\n",
        "import pandas as pd\n",
        "import tensorflow as tf\n",
        "import matplotlib.pyplot as plt\n",
        "from sklearn.cluster import KMeans\n",
        "from sklearn.ensemble import RandomForestClassifier\n",
        "from sklearn.preprocessing import StandardScaler\n",
        "import numpy as np\n",
        "from sklearn.preprocessing import LabelEncoder\n",
        "from sklearn.decomposition import PCA\n",
        "import seaborn as sns\n",
        "from sklearn.mixture import GaussianMixture\n",
        "import warnings\n",
        "warnings.filterwarnings(\"ignore\")"
      ],
      "execution_count": null,
      "outputs": []
    },
    {
      "cell_type": "markdown",
      "metadata": {
        "id": "Jq9Vs8i-HWzZ"
      },
      "source": [
        "Reading csv file"
      ]
    },
    {
      "cell_type": "code",
      "metadata": {
        "colab": {
          "base_uri": "https://localhost:8080/",
          "height": 204
        },
        "id": "mS2CpjVGFEOS",
        "outputId": "602b107c-517b-410a-9e76-64e71efcd897"
      },
      "source": [
        "#Read the data from csv file\n",
        "df = pd.read_csv('/content/covid.csv',sep=',')\n",
        "#Read data from file\n",
        "df = df.sample(n=10000,random_state=24)\n",
        "df.head()"
      ],
      "execution_count": null,
      "outputs": [
        {
          "output_type": "execute_result",
          "data": {
            "text/html": [
              "<div>\n",
              "<style scoped>\n",
              "    .dataframe tbody tr th:only-of-type {\n",
              "        vertical-align: middle;\n",
              "    }\n",
              "\n",
              "    .dataframe tbody tr th {\n",
              "        vertical-align: top;\n",
              "    }\n",
              "\n",
              "    .dataframe thead th {\n",
              "        text-align: right;\n",
              "    }\n",
              "</style>\n",
              "<table border=\"1\" class=\"dataframe\">\n",
              "  <thead>\n",
              "    <tr style=\"text-align: right;\">\n",
              "      <th></th>\n",
              "      <th>SNo</th>\n",
              "      <th>ObservationDate</th>\n",
              "      <th>Province/State</th>\n",
              "      <th>Country/Region</th>\n",
              "      <th>Last Update</th>\n",
              "      <th>Confirmed</th>\n",
              "      <th>Deaths</th>\n",
              "      <th>Recovered</th>\n",
              "    </tr>\n",
              "  </thead>\n",
              "  <tbody>\n",
              "    <tr>\n",
              "      <th>245412</th>\n",
              "      <td>75706</td>\n",
              "      <td>7/29/20</td>\n",
              "      <td>Port Quarantine</td>\n",
              "      <td>Japan</td>\n",
              "      <td>4/2/21 15:13</td>\n",
              "      <td>582</td>\n",
              "      <td>1</td>\n",
              "      <td>236</td>\n",
              "    </tr>\n",
              "    <tr>\n",
              "      <th>63795</th>\n",
              "      <td>290545</td>\n",
              "      <td>5/9/21</td>\n",
              "      <td>Alaska</td>\n",
              "      <td>US</td>\n",
              "      <td>5/10/21 4:20</td>\n",
              "      <td>68880</td>\n",
              "      <td>349</td>\n",
              "      <td>0</td>\n",
              "    </tr>\n",
              "    <tr>\n",
              "      <th>122512</th>\n",
              "      <td>277025</td>\n",
              "      <td>4/21/21</td>\n",
              "      <td>Kurgan Oblast</td>\n",
              "      <td>Russia</td>\n",
              "      <td>4/22/21 4:20</td>\n",
              "      <td>20037</td>\n",
              "      <td>374</td>\n",
              "      <td>18615</td>\n",
              "    </tr>\n",
              "    <tr>\n",
              "      <th>151705</th>\n",
              "      <td>114848</td>\n",
              "      <td>9/20/20</td>\n",
              "      <td>NaN</td>\n",
              "      <td>Tunisia</td>\n",
              "      <td>4/2/21 15:13</td>\n",
              "      <td>10732</td>\n",
              "      <td>159</td>\n",
              "      <td>2386</td>\n",
              "    </tr>\n",
              "    <tr>\n",
              "      <th>22187</th>\n",
              "      <td>198849</td>\n",
              "      <td>1/9/21</td>\n",
              "      <td>Chhattisgarh</td>\n",
              "      <td>India</td>\n",
              "      <td>4/2/21 15:13</td>\n",
              "      <td>288570</td>\n",
              "      <td>3484</td>\n",
              "      <td>275812</td>\n",
              "    </tr>\n",
              "  </tbody>\n",
              "</table>\n",
              "</div>"
            ],
            "text/plain": [
              "           SNo ObservationDate   Province/State  ... Confirmed Deaths  Recovered\n",
              "245412   75706         7/29/20  Port Quarantine  ...       582      1        236\n",
              "63795   290545          5/9/21           Alaska  ...     68880    349          0\n",
              "122512  277025         4/21/21    Kurgan Oblast  ...     20037    374      18615\n",
              "151705  114848         9/20/20              NaN  ...     10732    159       2386\n",
              "22187   198849          1/9/21     Chhattisgarh  ...    288570   3484     275812\n",
              "\n",
              "[5 rows x 8 columns]"
            ]
          },
          "metadata": {},
          "execution_count": 7
        }
      ]
    },
    {
      "cell_type": "markdown",
      "metadata": {
        "id": "1056G_NXHDtE"
      },
      "source": [
        "Get data information from dataset"
      ]
    },
    {
      "cell_type": "code",
      "metadata": {
        "colab": {
          "base_uri": "https://localhost:8080/"
        },
        "id": "o1P-4oElGlJr",
        "outputId": "a425e19e-c63e-41e4-9ce1-041de2adf03d"
      },
      "source": [
        "df.info()"
      ],
      "execution_count": null,
      "outputs": [
        {
          "output_type": "stream",
          "name": "stdout",
          "text": [
            "<class 'pandas.core.frame.DataFrame'>\n",
            "Int64Index: 10000 entries, 245412 to 87867\n",
            "Data columns (total 8 columns):\n",
            " #   Column           Non-Null Count  Dtype \n",
            "---  ------           --------------  ----- \n",
            " 0   SNo              10000 non-null  int64 \n",
            " 1   ObservationDate  10000 non-null  object\n",
            " 2   Province/State   7458 non-null   object\n",
            " 3   Country/Region   10000 non-null  object\n",
            " 4   Last Update      10000 non-null  object\n",
            " 5   Confirmed        10000 non-null  int64 \n",
            " 6   Deaths           10000 non-null  int64 \n",
            " 7   Recovered        10000 non-null  int64 \n",
            "dtypes: int64(4), object(4)\n",
            "memory usage: 703.1+ KB\n"
          ]
        }
      ]
    },
    {
      "cell_type": "markdown",
      "metadata": {
        "id": "eD0LVXquJYQB"
      },
      "source": [
        "Check missing values in a given series"
      ]
    },
    {
      "cell_type": "code",
      "metadata": {
        "colab": {
          "base_uri": "https://localhost:8080/"
        },
        "id": "biRKa39DHUG_",
        "outputId": "32f67a1d-4d1f-4431-e190-144784d0e580"
      },
      "source": [
        "df.isnull().mean() * 100"
      ],
      "execution_count": null,
      "outputs": [
        {
          "output_type": "execute_result",
          "data": {
            "text/plain": [
              "SNo                 0.00\n",
              "ObservationDate     0.00\n",
              "Province/State     25.42\n",
              "Country/Region      0.00\n",
              "Last Update         0.00\n",
              "Confirmed           0.00\n",
              "Deaths              0.00\n",
              "Recovered           0.00\n",
              "dtype: float64"
            ]
          },
          "metadata": {},
          "execution_count": 9
        }
      ]
    },
    {
      "cell_type": "markdown",
      "metadata": {
        "id": "YQYxencZJgDZ"
      },
      "source": [
        "Drop the missing values"
      ]
    },
    {
      "cell_type": "code",
      "metadata": {
        "id": "Gz9n22UHJKTg"
      },
      "source": [
        "df = pd.DataFrame.dropna(df,axis=0,how='any')"
      ],
      "execution_count": null,
      "outputs": []
    },
    {
      "cell_type": "markdown",
      "metadata": {
        "id": "AIzbr1ELJxJd"
      },
      "source": [
        "Confirm if the missing fields are dropped."
      ]
    },
    {
      "cell_type": "code",
      "metadata": {
        "colab": {
          "base_uri": "https://localhost:8080/"
        },
        "id": "YqQGPnujJ-ch",
        "outputId": "9c556b65-dee2-4a7b-d13b-e7e2dba27892"
      },
      "source": [
        "df.isnull().mean() * 100"
      ],
      "execution_count": null,
      "outputs": [
        {
          "output_type": "execute_result",
          "data": {
            "text/plain": [
              "SNo                0.0\n",
              "ObservationDate    0.0\n",
              "Province/State     0.0\n",
              "Country/Region     0.0\n",
              "Last Update        0.0\n",
              "Confirmed          0.0\n",
              "Deaths             0.0\n",
              "Recovered          0.0\n",
              "dtype: float64"
            ]
          },
          "metadata": {},
          "execution_count": 11
        }
      ]
    },
    {
      "cell_type": "code",
      "metadata": {
        "colab": {
          "base_uri": "https://localhost:8080/"
        },
        "id": "NQPYSEEAK2om",
        "outputId": "4bcac964-92ea-4e27-c38e-1d1536b4ffa8"
      },
      "source": [
        "df['Country/Region'].unique()"
      ],
      "execution_count": null,
      "outputs": [
        {
          "output_type": "execute_result",
          "data": {
            "text/plain": [
              "array(['Japan', 'US', 'Russia', 'India', 'Denmark', 'Spain', 'Germany',\n",
              "       'Mainland China', 'Brazil', 'UK', 'France', 'Chile', 'Mexico',\n",
              "       'Sweden', 'Ukraine', 'Belgium', 'Colombia', 'Italy', 'Peru',\n",
              "       'Netherlands', 'Canada', 'Macau', 'Australia', 'Pakistan',\n",
              "       'Hong Kong', 'China', 'Others', 'Taiwan'], dtype=object)"
            ]
          },
          "metadata": {},
          "execution_count": 12
        }
      ]
    },
    {
      "cell_type": "code",
      "metadata": {
        "colab": {
          "base_uri": "https://localhost:8080/"
        },
        "id": "TAm7GfnaLOv3",
        "outputId": "87e5f86f-6401-49d8-9907-0142984f9994"
      },
      "source": [
        "df.shape"
      ],
      "execution_count": null,
      "outputs": [
        {
          "output_type": "execute_result",
          "data": {
            "text/plain": [
              "(7458, 8)"
            ]
          },
          "metadata": {},
          "execution_count": 13
        }
      ]
    },
    {
      "cell_type": "code",
      "metadata": {
        "id": "entJBTg0LQ8s"
      },
      "source": [
        "df_without_lb = df.drop(['Country/Region'], axis=1)"
      ],
      "execution_count": null,
      "outputs": []
    },
    {
      "cell_type": "markdown",
      "metadata": {
        "id": "9bJkPiHjWq2C"
      },
      "source": [
        "Encoding the categorical feature to numerical"
      ]
    },
    {
      "cell_type": "code",
      "metadata": {
        "colab": {
          "base_uri": "https://localhost:8080/",
          "height": 419
        },
        "id": "2hgi28kiLfeF",
        "outputId": "7a225de1-37ec-41be-a469-05fdb8e1ac52"
      },
      "source": [
        "\n",
        "df_without_lb.loc[:,'Province/State'] = LabelEncoder().fit_transform(df.loc[:,'Province/State'].copy())\n",
        "df_without_lb.loc[:,'Country/Region'] = LabelEncoder().fit_transform(df.loc[:,'Country/Region'].copy())\n",
        "df_without_lb.loc[:,'Last Update'] = LabelEncoder().fit_transform(df.loc[:,'Last Update'].copy())\n",
        "df_without_lb.loc[:,'ObservationDate'] = LabelEncoder().fit_transform(df.loc[:,'ObservationDate'].copy())\n",
        "\n",
        "df_without_lb"
      ],
      "execution_count": null,
      "outputs": [
        {
          "output_type": "execute_result",
          "data": {
            "text/html": [
              "<div>\n",
              "<style scoped>\n",
              "    .dataframe tbody tr th:only-of-type {\n",
              "        vertical-align: middle;\n",
              "    }\n",
              "\n",
              "    .dataframe tbody tr th {\n",
              "        vertical-align: top;\n",
              "    }\n",
              "\n",
              "    .dataframe thead th {\n",
              "        text-align: right;\n",
              "    }\n",
              "</style>\n",
              "<table border=\"1\" class=\"dataframe\">\n",
              "  <thead>\n",
              "    <tr style=\"text-align: right;\">\n",
              "      <th></th>\n",
              "      <th>SNo</th>\n",
              "      <th>ObservationDate</th>\n",
              "      <th>Province/State</th>\n",
              "      <th>Last Update</th>\n",
              "      <th>Confirmed</th>\n",
              "      <th>Deaths</th>\n",
              "      <th>Recovered</th>\n",
              "      <th>Country/Region</th>\n",
              "    </tr>\n",
              "  </thead>\n",
              "  <tbody>\n",
              "    <tr>\n",
              "      <th>245412</th>\n",
              "      <td>75706</td>\n",
              "      <td>413</td>\n",
              "      <td>416</td>\n",
              "      <td>155</td>\n",
              "      <td>582</td>\n",
              "      <td>1</td>\n",
              "      <td>236</td>\n",
              "      <td>13</td>\n",
              "    </tr>\n",
              "    <tr>\n",
              "      <th>63795</th>\n",
              "      <td>290545</td>\n",
              "      <td>361</td>\n",
              "      <td>9</td>\n",
              "      <td>193</td>\n",
              "      <td>68880</td>\n",
              "      <td>349</td>\n",
              "      <td>0</td>\n",
              "      <td>26</td>\n",
              "    </tr>\n",
              "    <tr>\n",
              "      <th>122512</th>\n",
              "      <td>277025</td>\n",
              "      <td>269</td>\n",
              "      <td>262</td>\n",
              "      <td>161</td>\n",
              "      <td>20037</td>\n",
              "      <td>374</td>\n",
              "      <td>18615</td>\n",
              "      <td>21</td>\n",
              "    </tr>\n",
              "    <tr>\n",
              "      <th>22187</th>\n",
              "      <td>198849</td>\n",
              "      <td>35</td>\n",
              "      <td>101</td>\n",
              "      <td>155</td>\n",
              "      <td>288570</td>\n",
              "      <td>3484</td>\n",
              "      <td>275812</td>\n",
              "      <td>11</td>\n",
              "    </tr>\n",
              "    <tr>\n",
              "      <th>40689</th>\n",
              "      <td>24075</td>\n",
              "      <td>306</td>\n",
              "      <td>354</td>\n",
              "      <td>155</td>\n",
              "      <td>140289</td>\n",
              "      <td>9340</td>\n",
              "      <td>0</td>\n",
              "      <td>26</td>\n",
              "    </tr>\n",
              "    <tr>\n",
              "      <th>...</th>\n",
              "      <td>...</td>\n",
              "      <td>...</td>\n",
              "      <td>...</td>\n",
              "      <td>...</td>\n",
              "      <td>...</td>\n",
              "      <td>...</td>\n",
              "      <td>...</td>\n",
              "      <td>...</td>\n",
              "    </tr>\n",
              "    <tr>\n",
              "      <th>122116</th>\n",
              "      <td>212017</td>\n",
              "      <td>20</td>\n",
              "      <td>279</td>\n",
              "      <td>155</td>\n",
              "      <td>20182</td>\n",
              "      <td>358</td>\n",
              "      <td>16197</td>\n",
              "      <td>21</td>\n",
              "    </tr>\n",
              "    <tr>\n",
              "      <th>275446</th>\n",
              "      <td>190757</td>\n",
              "      <td>118</td>\n",
              "      <td>418</td>\n",
              "      <td>155</td>\n",
              "      <td>94</td>\n",
              "      <td>0</td>\n",
              "      <td>89</td>\n",
              "      <td>3</td>\n",
              "    </tr>\n",
              "    <tr>\n",
              "      <th>228180</th>\n",
              "      <td>164569</td>\n",
              "      <td>84</td>\n",
              "      <td>164</td>\n",
              "      <td>155</td>\n",
              "      <td>1100</td>\n",
              "      <td>11</td>\n",
              "      <td>0</td>\n",
              "      <td>23</td>\n",
              "    </tr>\n",
              "    <tr>\n",
              "      <th>234976</th>\n",
              "      <td>254833</td>\n",
              "      <td>212</td>\n",
              "      <td>255</td>\n",
              "      <td>155</td>\n",
              "      <td>910</td>\n",
              "      <td>19</td>\n",
              "      <td>883</td>\n",
              "      <td>13</td>\n",
              "    </tr>\n",
              "    <tr>\n",
              "      <th>87867</th>\n",
              "      <td>264135</td>\n",
              "      <td>291</td>\n",
              "      <td>381</td>\n",
              "      <td>182</td>\n",
              "      <td>39927</td>\n",
              "      <td>912</td>\n",
              "      <td>36726</td>\n",
              "      <td>4</td>\n",
              "    </tr>\n",
              "  </tbody>\n",
              "</table>\n",
              "<p>7458 rows × 8 columns</p>\n",
              "</div>"
            ],
            "text/plain": [
              "           SNo  ObservationDate  ...  Recovered  Country/Region\n",
              "245412   75706              413  ...        236              13\n",
              "63795   290545              361  ...          0              26\n",
              "122512  277025              269  ...      18615              21\n",
              "22187   198849               35  ...     275812              11\n",
              "40689    24075              306  ...          0              26\n",
              "...        ...              ...  ...        ...             ...\n",
              "122116  212017               20  ...      16197              21\n",
              "275446  190757              118  ...         89               3\n",
              "228180  164569               84  ...          0              23\n",
              "234976  254833              212  ...        883              13\n",
              "87867   264135              291  ...      36726               4\n",
              "\n",
              "[7458 rows x 8 columns]"
            ]
          },
          "metadata": {},
          "execution_count": 15
        }
      ]
    },
    {
      "cell_type": "code",
      "metadata": {
        "colab": {
          "base_uri": "https://localhost:8080/"
        },
        "id": "LQB7rlHnhM0T",
        "outputId": "2f9c7e0d-4825-44cf-8dcc-f44884f22543"
      },
      "source": [
        "df_without_lb_np  = df_without_lb.to_numpy()\n",
        "df_without_lb_np.shape"
      ],
      "execution_count": null,
      "outputs": [
        {
          "output_type": "execute_result",
          "data": {
            "text/plain": [
              "(7458, 8)"
            ]
          },
          "metadata": {},
          "execution_count": 16
        }
      ]
    },
    {
      "cell_type": "code",
      "metadata": {
        "id": "_cDUTaY9PFzp"
      },
      "source": [
        "# Selecting top 10 features using chi2 score\n",
        "from sklearn.feature_selection import SelectKBest\n",
        "from sklearn.feature_selection import chi2\n",
        "chi2_top10=SelectKBest(chi2,k=8)\n",
        "chi2_test=chi2_top10.fit_transform(df_without_lb,df['Country/Region'])"
      ],
      "execution_count": null,
      "outputs": []
    },
    {
      "cell_type": "code",
      "metadata": {
        "colab": {
          "base_uri": "https://localhost:8080/"
        },
        "id": "mVVWgyLUQSAS",
        "outputId": "cb192928-25d8-4b83-ac26-93df72b294a5"
      },
      "source": [
        "chi2_test.shape"
      ],
      "execution_count": null,
      "outputs": [
        {
          "output_type": "execute_result",
          "data": {
            "text/plain": [
              "(7458, 8)"
            ]
          },
          "metadata": {},
          "execution_count": 43
        }
      ]
    },
    {
      "cell_type": "code",
      "metadata": {
        "colab": {
          "base_uri": "https://localhost:8080/"
        },
        "id": "uVV9BmpqQWpg",
        "outputId": "5651582a-7591-4234-b9a7-04844eeb9c7a"
      },
      "source": [
        "df['Country/Region'].unique()"
      ],
      "execution_count": null,
      "outputs": [
        {
          "output_type": "execute_result",
          "data": {
            "text/plain": [
              "array(['Japan', 'US', 'Russia', 'India', 'Denmark', 'Spain', 'Germany',\n",
              "       'Mainland China', 'Brazil', 'UK', 'France', 'Chile', 'Mexico',\n",
              "       'Sweden', 'Ukraine', 'Belgium', 'Colombia', 'Italy', 'Peru',\n",
              "       'Netherlands', 'Canada', 'Macau', 'Australia', 'Pakistan',\n",
              "       'Hong Kong', 'China', 'Others', 'Taiwan'], dtype=object)"
            ]
          },
          "metadata": {},
          "execution_count": 19
        }
      ]
    },
    {
      "cell_type": "markdown",
      "metadata": {
        "id": "tu_p3aXPW9Jb"
      },
      "source": [
        "Applying Elbow method to find out number of k number of cluster"
      ]
    },
    {
      "cell_type": "code",
      "metadata": {
        "colab": {
          "base_uri": "https://localhost:8080/",
          "height": 312
        },
        "id": "bP676YbZQjvH",
        "outputId": "6fc40977-b7b7-404a-d77f-6e0423995bb5"
      },
      "source": [
        "# Applying elbow method to see how many clusters would be a good fit for the dataset\n",
        "sc = [KMeans(n_clusters=i+2).fit(X_chi2_top10).inertia_ for i in range(8)]\n",
        "sns.lineplot(np.arange(2,10),sc)\n",
        "plt.xlabel('Number of clusters')\n",
        "plt.ylabel(\"Inertia\")\n",
        "plt.title(\"Elbow method to find out k number of clusters\")"
      ],
      "execution_count": null,
      "outputs": [
        {
          "output_type": "execute_result",
          "data": {
            "text/plain": [
              "Text(0.5, 1.0, 'Elbow method to find out k number of clusters')"
            ]
          },
          "metadata": {},
          "execution_count": 20
        },
        {
          "output_type": "display_data",
          "data": {
            "image/png": "[encoded data removed]",
            "text/plain": [
              "<Figure size 432x288 with 1 Axes>"
            ]
          },
          "metadata": {
            "needs_background": "light"
          }
        }
      ]
    },
    {
      "cell_type": "markdown",
      "metadata": {
        "id": "SqRrzsl3XHP6"
      },
      "source": [
        "GMM Clustering on the features using chi square test"
      ]
    },
    {
      "cell_type": "code",
      "metadata": {
        "colab": {
          "base_uri": "https://localhost:8080/",
          "height": 266
        },
        "id": "qAd3EgaaYc5t",
        "outputId": "bf228e68-4f44-4231-b68e-82a7c2c080cb"
      },
      "source": [
        "# GMM Clustering on the features extracted using chi2 test\n",
        "from sklearn.mixture import GaussianMixture\n",
        "import numpy \n",
        "import matplotlib\n",
        "import matplotlib.pyplot as plt\n",
        "\n",
        "gmm=GaussianMixture(n_components=3)\n",
        "gmm.fit(X_chi2_top10)\n",
        "\n",
        "#pregmmdictions from gmm\n",
        "lbl = gmm.predict(chi2_test)\n",
        "df_gmm = pd.DataFrame(lbl)\n",
        "df_gmm\n",
        "clusters = numpy.unique(df_gmm)\n",
        "# create scatter plot for samples from each cluster\n",
        "for clst in clusters:\n",
        "\t# retrievet index of row for samples with this cluster\n",
        "\trow_index = numpy.where(df_gmm == clst)\n",
        "\t# creating scatter of the samples from features first,second and third\n",
        "\tmatplotlib.pyplot.scatter(chi2_test[row_index, 0], chi2_test[row_index, 1],chi2_test[row_index, 2])\n",
        "# draw a plot using matplot library\n",
        "matplotlib.pyplot.show()"
      ],
      "execution_count": null,
      "outputs": [
        {
          "output_type": "display_data",
          "data": {
            "image/png": "[encoded data removed]",
            "text/plain": [
              "<Figure size 432x288 with 1 Axes>"
            ]
          },
          "metadata": {
            "needs_background": "light"
          }
        }
      ]
    },
    {
      "cell_type": "markdown",
      "metadata": {
        "id": "CD8IOc1fXPT4"
      },
      "source": [
        "Finding out silhouette score for cluster=3 and gaussian model with chi square test"
      ]
    },
    {
      "cell_type": "code",
      "metadata": {
        "colab": {
          "base_uri": "https://localhost:8080/"
        },
        "id": "ITrwCnuXCevc",
        "outputId": "9d89a8e4-a97f-4c6a-b961-bc746e6ce572"
      },
      "source": [
        "from sklearn.metrics import  silhouette_score\n",
        "sil_avg = silhouette_score(chi2_test, df_gmm[0])\n",
        "print(\"For n_clusters = 3 and GaussianMixture model with chi2 test\",\"The silhouette_score is :\", sil_avg)"
      ],
      "execution_count": null,
      "outputs": [
        {
          "output_type": "stream",
          "name": "stdout",
          "text": [
            "For n_clusters = 3 and GaussianMixture model with chi2 test The silhouette_score is : -0.0207218241646281\n"
          ]
        }
      ]
    },
    {
      "cell_type": "code",
      "metadata": {
        "colab": {
          "base_uri": "https://localhost:8080/"
        },
        "id": "fn9YFRDzC63m",
        "outputId": "d3552d96-8d4a-4bf6-b9ff-267c7b727fee"
      },
      "source": [
        "from sklearn.metrics.cluster import adjusted_rand_score\n",
        "\n",
        "adjusted_rand_score(df['Country/Region'],df_gmm[0])"
      ],
      "execution_count": null,
      "outputs": [
        {
          "output_type": "execute_result",
          "data": {
            "text/plain": [
              "0.04449188123828578"
            ]
          },
          "metadata": {},
          "execution_count": 51
        }
      ]
    },
    {
      "cell_type": "markdown",
      "metadata": {
        "id": "Pnw7MhHLXgG7"
      },
      "source": [
        "Applying Birch clustering on top features using chi square test"
      ]
    },
    {
      "cell_type": "code",
      "metadata": {
        "colab": {
          "base_uri": "https://localhost:8080/",
          "height": 266
        },
        "id": "VbIXZtHHGRhw",
        "outputId": "947ed670-d6fd-4701-cdd6-6fca3433063f"
      },
      "source": [
        "\n",
        "from numpy import unique\n",
        "from numpy import where\n",
        "from sklearn.datasets import make_classification\n",
        "from sklearn.cluster import Birch\n",
        "from matplotlib import pyplot\n",
        "# define the model\n",
        "bmdl = Birch(threshold=0.01, n_clusters=3)\n",
        "# fit the model\n",
        "bmdl.fit(chi2_test)\n",
        "# assign a cluster to each example\n",
        "yhat = bmdl.predict(chi2_test)\n",
        "# retrieve unique clusters\n",
        "clusters = unique(yhat)\n",
        "# create scatter plot for samples from each cluster\n",
        "for cluster in clusters:\n",
        "\t# get row indexes for samples with this cluster from features 1,2,3\n",
        "\trow_index = where(yhat == cluster)\n",
        "\t# create scatter of these samples\n",
        "\tpyplot.scatter(chi2_test[row_index, 0], chi2_test[row_index, 1],chi2_test[row_index, 2])\n",
        "# show the plot\n",
        "pyplot.show()"
      ],
      "execution_count": null,
      "outputs": [
        {
          "output_type": "display_data",
          "data": {
            "image/png": "[encoded data removed]",
            "text/plain": [
              "<Figure size 432x288 with 1 Axes>"
            ]
          },
          "metadata": {
            "needs_background": "light"
          }
        }
      ]
    },
    {
      "cell_type": "code",
      "metadata": {
        "colab": {
          "base_uri": "https://localhost:8080/"
        },
        "id": "uQ0hvNqZHFVq",
        "outputId": "c4a950ad-0db3-4e2c-8910-5c305579dfca"
      },
      "source": [
        "from sklearn.metrics import  silhouette_score\n",
        "sil_avg2 = silhouette_score(chi2_test, yhat)\n",
        "print(\"For n_clusters = 3 and Birch model selected using chi2 test\",\"The value of silhouette_score is :\", sil_avg2)"
      ],
      "execution_count": null,
      "outputs": [
        {
          "output_type": "stream",
          "name": "stdout",
          "text": [
            "For n_clusters = 3 and Birch model selected using chi2 test The value of silhouette_score is : 0.7947377159698801\n"
          ]
        }
      ]
    },
    {
      "cell_type": "code",
      "metadata": {
        "colab": {
          "base_uri": "https://localhost:8080/"
        },
        "id": "ECMHNqL0HfUB",
        "outputId": "c3909f20-2ce9-4507-fdeb-d7469e237dc2"
      },
      "source": [
        "from sklearn.metrics.cluster import adjusted_rand_score\n",
        "\n",
        "adjusted_rand_score(df['Country/Region'],yhat)"
      ],
      "execution_count": null,
      "outputs": [
        {
          "output_type": "execute_result",
          "data": {
            "text/plain": [
              "0.00019341638289860705"
            ]
          },
          "metadata": {},
          "execution_count": 58
        }
      ]
    },
    {
      "cell_type": "markdown",
      "metadata": {
        "id": "DKFRr_IkX_x6"
      },
      "source": [
        "Getting top correlated features"
      ]
    },
    {
      "cell_type": "code",
      "metadata": {
        "colab": {
          "base_uri": "https://localhost:8080/",
          "height": 453
        },
        "id": "jvVeGBMiH3ib",
        "outputId": "214e82af-ecd8-42fa-e1bd-b89035e19bd6"
      },
      "source": [
        "# Retrieving top correlated features\n",
        "import seaborn as sns\n",
        "import matplotlib.pyplot as plt\n",
        "%matplotlib inline\n",
        "df_data_encoded=df\n",
        "df_data_encoded.loc[:,'Province/State'] = LabelEncoder().fit_transform(df.loc[:,'Province/State'].copy())\n",
        "df_data_encoded.loc[:,'Country/Region'] = LabelEncoder().fit_transform(df.loc[:,'Country/Region'].copy())\n",
        "df_data_encoded.loc[:,'Last Update'] = LabelEncoder().fit_transform(df.loc[:,'Last Update'].copy())\n",
        "df_data_encoded.loc[:,'ObservationDate'] = LabelEncoder().fit_transform(df.loc[:,'ObservationDate'].copy())\n",
        "\n",
        "\n",
        "cor_ft=df_data_encoded.corr()\n",
        "\n",
        "plt.figure(figsize=(8,6))\n",
        "sns.heatmap(cor_ft,annot=True)\n",
        "cor_ft=df_data_encoded.corr()"
      ],
      "execution_count": null,
      "outputs": [
        {
          "output_type": "display_data",
          "data": {
            "image/png": "[encoded data removed]",
            "text/plain": [
              "<Figure size 576x432 with 2 Axes>"
            ]
          },
          "metadata": {
            "needs_background": "light"
          }
        }
      ]
    },
    {
      "cell_type": "code",
      "metadata": {
        "id": "emApmYfTI4BL"
      },
      "source": [
        "#Selecting highly correlated features\n",
        "cor_target = abs(cor_ft['Country/Region'])\n",
        "relevant_features = cor_target[cor_target>=0.02]\n",
        "top_feat=list(relevant_features.index)\n",
        "top_feat.remove('Country/Region')"
      ],
      "execution_count": null,
      "outputs": []
    },
    {
      "cell_type": "code",
      "metadata": {
        "colab": {
          "base_uri": "https://localhost:8080/"
        },
        "id": "lVGs1KFsPefv",
        "outputId": "47e3bc33-6ecf-4ebc-87f7-32bfdf54cab5"
      },
      "source": [
        "top_feat"
      ],
      "execution_count": null,
      "outputs": [
        {
          "output_type": "execute_result",
          "data": {
            "text/plain": [
              "['Province/State', 'Confirmed', 'Recovered']"
            ]
          },
          "metadata": {},
          "execution_count": 106
        }
      ]
    },
    {
      "cell_type": "code",
      "metadata": {
        "id": "o3aNgQ6qQiZf"
      },
      "source": [
        "df_corr=df_without_lb[top_feat]"
      ],
      "execution_count": null,
      "outputs": []
    },
    {
      "cell_type": "code",
      "metadata": {
        "colab": {
          "base_uri": "https://localhost:8080/",
          "height": 419
        },
        "id": "EUpHegL8Qm6q",
        "outputId": "f10c06d2-6cab-420b-ca48-09e822d5c8eb"
      },
      "source": [
        "df_corr"
      ],
      "execution_count": null,
      "outputs": [
        {
          "output_type": "execute_result",
          "data": {
            "text/html": [
              "<div>\n",
              "<style scoped>\n",
              "    .dataframe tbody tr th:only-of-type {\n",
              "        vertical-align: middle;\n",
              "    }\n",
              "\n",
              "    .dataframe tbody tr th {\n",
              "        vertical-align: top;\n",
              "    }\n",
              "\n",
              "    .dataframe thead th {\n",
              "        text-align: right;\n",
              "    }\n",
              "</style>\n",
              "<table border=\"1\" class=\"dataframe\">\n",
              "  <thead>\n",
              "    <tr style=\"text-align: right;\">\n",
              "      <th></th>\n",
              "      <th>Province/State</th>\n",
              "      <th>Confirmed</th>\n",
              "      <th>Recovered</th>\n",
              "    </tr>\n",
              "  </thead>\n",
              "  <tbody>\n",
              "    <tr>\n",
              "      <th>245412</th>\n",
              "      <td>416</td>\n",
              "      <td>582</td>\n",
              "      <td>236</td>\n",
              "    </tr>\n",
              "    <tr>\n",
              "      <th>63795</th>\n",
              "      <td>9</td>\n",
              "      <td>68880</td>\n",
              "      <td>0</td>\n",
              "    </tr>\n",
              "    <tr>\n",
              "      <th>122512</th>\n",
              "      <td>262</td>\n",
              "      <td>20037</td>\n",
              "      <td>18615</td>\n",
              "    </tr>\n",
              "    <tr>\n",
              "      <th>22187</th>\n",
              "      <td>101</td>\n",
              "      <td>288570</td>\n",
              "      <td>275812</td>\n",
              "    </tr>\n",
              "    <tr>\n",
              "      <th>40689</th>\n",
              "      <td>354</td>\n",
              "      <td>140289</td>\n",
              "      <td>0</td>\n",
              "    </tr>\n",
              "    <tr>\n",
              "      <th>...</th>\n",
              "      <td>...</td>\n",
              "      <td>...</td>\n",
              "      <td>...</td>\n",
              "    </tr>\n",
              "    <tr>\n",
              "      <th>122116</th>\n",
              "      <td>279</td>\n",
              "      <td>20182</td>\n",
              "      <td>16197</td>\n",
              "    </tr>\n",
              "    <tr>\n",
              "      <th>275446</th>\n",
              "      <td>418</td>\n",
              "      <td>94</td>\n",
              "      <td>89</td>\n",
              "    </tr>\n",
              "    <tr>\n",
              "      <th>228180</th>\n",
              "      <td>164</td>\n",
              "      <td>1100</td>\n",
              "      <td>0</td>\n",
              "    </tr>\n",
              "    <tr>\n",
              "      <th>234976</th>\n",
              "      <td>255</td>\n",
              "      <td>910</td>\n",
              "      <td>883</td>\n",
              "    </tr>\n",
              "    <tr>\n",
              "      <th>87867</th>\n",
              "      <td>381</td>\n",
              "      <td>39927</td>\n",
              "      <td>36726</td>\n",
              "    </tr>\n",
              "  </tbody>\n",
              "</table>\n",
              "<p>7458 rows × 3 columns</p>\n",
              "</div>"
            ],
            "text/plain": [
              "        Province/State  Confirmed  Recovered\n",
              "245412             416        582        236\n",
              "63795                9      68880          0\n",
              "122512             262      20037      18615\n",
              "22187              101     288570     275812\n",
              "40689              354     140289          0\n",
              "...                ...        ...        ...\n",
              "122116             279      20182      16197\n",
              "275446             418         94         89\n",
              "228180             164       1100          0\n",
              "234976             255        910        883\n",
              "87867              381      39927      36726\n",
              "\n",
              "[7458 rows x 3 columns]"
            ]
          },
          "metadata": {},
          "execution_count": 114
        }
      ]
    },
    {
      "cell_type": "code",
      "metadata": {
        "id": "20xj7Th0RsUG"
      },
      "source": [
        "df_corr=df_corr.to_numpy()"
      ],
      "execution_count": null,
      "outputs": []
    },
    {
      "cell_type": "code",
      "metadata": {
        "colab": {
          "base_uri": "https://localhost:8080/",
          "height": 276
        },
        "id": "uWncyEKIR1-1",
        "outputId": "72c737a5-6011-4e2e-82f3-6c4abd7a8737"
      },
      "source": [
        "# Applying BIRCH on top 10 features selected based on correlation\n",
        "from numpy import unique\n",
        "from numpy import where\n",
        "from sklearn.datasets import make_classification\n",
        "from sklearn.cluster import Birch\n",
        "from matplotlib import pyplot\n",
        "# define the model\n",
        "bmodel = Birch(threshold=0.02, n_clusters=3)\n",
        "# fit the model\n",
        "bmodel.fit(df_corr)\n",
        "# allocate a cluster to each and every example\n",
        "yhat2 = bmodel.predict(df_corr)\n",
        "# getting the unique clusters\n",
        "gaussianclst2 = unique(yhat2)\n",
        "# create scatter plot for samples from each cluster\n",
        "for cluster in gaussianclst2:\n",
        "\t# retrieve row indexes for samples with this cluster\n",
        "\trow_index4 = where(yhat2 == cluster)\n",
        "\t# create scatter of these samples\n",
        "\tpyplot.scatter(df_corr[row_index4, 0], df_corr[row_index4, 1],df_corr[row_index4, 2])\n",
        "# draw the plot\n",
        "pyplot.show()"
      ],
      "execution_count": null,
      "outputs": [
        {
          "output_type": "display_data",
          "data": {
            "image/png": "[encoded data removed]",
            "text/plain": [
              "<Figure size 432x288 with 1 Axes>"
            ]
          },
          "metadata": {
            "needs_background": "light"
          }
        }
      ]
    },
    {
      "cell_type": "code",
      "metadata": {
        "colab": {
          "base_uri": "https://localhost:8080/"
        },
        "id": "ruV8UG7RTRYk",
        "outputId": "2b0c4abe-8662-46ab-e5ea-c39f9efe295a"
      },
      "source": [
        "from sklearn.metrics import  silhouette_score\n",
        "silhouette_avg = silhouette_score(X_chi2_top10, yhat2)\n",
        "print(\"For n_clusters = 3 and Birch model on top of highly correlated features \",\"The average silhouette_score is :\", silhouette_avg)"
      ],
      "execution_count": null,
      "outputs": [
        {
          "output_type": "stream",
          "name": "stdout",
          "text": [
            "For n_clusters = 3 and Birch model on top of highly correlated features  The average silhouette_score is : 0.7281642638498632\n"
          ]
        }
      ]
    },
    {
      "cell_type": "code",
      "metadata": {
        "colab": {
          "base_uri": "https://localhost:8080/",
          "height": 276
        },
        "id": "eXk-VNTFTWUG",
        "outputId": "f68b92b5-e1e4-4740-96e9-3ad3056f96fa"
      },
      "source": [
        "# GMM Clustering on top 10 features selected based on correlation\n",
        "gmcluster2 = GaussianMixture(n_components=3)\n",
        "gmcluster2.fit(df_corr)\n",
        "\n",
        "#predictions from gmm\n",
        "lbls2 = gmcluster2.predict(df_corr)\n",
        "df_gmm_label2 = pd.DataFrame(lbls2)\n",
        "df_gmm_label2\n",
        "gaussiancluster = unique(df_gmm_label2)\n",
        "# create scatter plot for samples from each cluster\n",
        "for cluster in gaussiancluster:\n",
        "\t# get row indexes for samples with this cluster\n",
        "\trow_index2 = where(df_gmm_label2 == cluster)\n",
        "\t# create scatter of these samples\n",
        "\tpyplot.scatter(df_corr[row_index2, 0], df_corr[row_index2, 1],df_corr[row_index2, 2])\n",
        "# show the plot\n",
        "pyplot.show()"
      ],
      "execution_count": null,
      "outputs": [
        {
          "output_type": "display_data",
          "data": {
            "image/png": "[encoded data removed]",
            "text/plain": [
              "<Figure size 432x288 with 1 Axes>"
            ]
          },
          "metadata": {
            "needs_background": "light"
          }
        }
      ]
    },
    {
      "cell_type": "markdown",
      "metadata": {
        "id": "jFYiRZ93Y-yM"
      },
      "source": [
        " **Findings**\n",
        "\n",
        "---\n",
        "\n"
      ]
    },
    {
      "cell_type": "markdown",
      "metadata": {
        "id": "QfsfwlpWVK2W"
      },
      "source": [
        "As we can see in above steps, completely different clusters are created with feature selected using correlation and chi2 test. \n"
      ]
    }
  ]
}