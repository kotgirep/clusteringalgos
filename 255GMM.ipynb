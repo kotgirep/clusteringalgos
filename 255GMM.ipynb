{
  "nbformat": 4,
  "nbformat_minor": 0,
  "metadata": {
    "colab": {
      "name": "255GMM.ipynb",
      "provenance": [],
      "authorship_tag": "ABX9TyO6uQr+n6ARNpI7Y426M9Hm",
      "include_colab_link": true
    },
    "kernelspec": {
      "name": "python3",
      "display_name": "Python 3"
    },
    "language_info": {
      "name": "python"
    }
  },
  "cells": [
    {
      "cell_type": "markdown",
      "metadata": {
        "id": "view-in-github",
        "colab_type": "text"
      },
      "source": [
        "<a href=\"https://colab.research.google.com/github/kotgirep/clusteringalgos/blob/main/255GMM.ipynb\" target=\"_parent\"><img src=\"https://colab.research.google.com/assets/colab-badge.svg\" alt=\"Open In Colab\"/></a>"
      ]
    },
    {
      "cell_type": "markdown",
      "metadata": {
        "id": "VcX0eI1ZGyZ8"
      },
      "source": [
        "CMPE255-Assignment: GMM"
      ]
    },
    {
      "cell_type": "markdown",
      "metadata": {
        "id": "O4I3lEenCeE8"
      },
      "source": [
        "Data set: Covid 19 patients data set downloaded from Kaggle.\n",
        "\n",
        "Business value: Helpful for people or organizations who are keeping track of covid 19 patients record.( like hospitals )\n",
        "\n",
        "In this assignment, I am applying Gaussian mixture model algoritham to my covid19 patients dataset and selectiong other algoritham which is Birch and in the last comparing this recent clustering with previous k-means."
      ]
    },
    {
      "cell_type": "markdown",
      "metadata": {
        "id": "rX4TvuzRCjSF"
      },
      "source": [
        "Import the libraries"
      ]
    },
    {
      "cell_type": "code",
      "metadata": {
        "id": "SwDYIY5QCbXy"
      },
      "source": [
        "# Import the required libraries\n",
        "import pandas as pd\n",
        "import tensorflow as tf\n",
        "import matplotlib.pyplot as plt\n",
        "from sklearn.cluster import KMeans\n",
        "from sklearn.ensemble import RandomForestClassifier\n",
        "from sklearn.preprocessing import StandardScaler\n",
        "import numpy as np\n",
        "from sklearn.preprocessing import LabelEncoder\n",
        "from sklearn.decomposition import PCA\n",
        "import seaborn as sns\n",
        "from sklearn.mixture import GaussianMixture\n",
        "import warnings\n",
        "warnings.filterwarnings(\"ignore\")"
      ],
      "execution_count": 1,
      "outputs": []
    },
    {
      "cell_type": "markdown",
      "metadata": {
        "id": "2n9vLnfiCrKe"
      },
      "source": [
        "Reading the CSV File"
      ]
    },
    {
      "cell_type": "code",
      "metadata": {
        "colab": {
          "base_uri": "https://localhost:8080/",
          "height": 204
        },
        "id": "IGD1x8reCn41",
        "outputId": "72536c33-82df-4640-dc13-d87610bcdf8d"
      },
      "source": [
        "#Read the data from csv file\n",
        "df_data = pd.read_csv('/content/covid_19_data (1).csv',sep=',')\n",
        "#Read data from file\n",
        "df_data = df_data.sample(n=10000,random_state=24)\n",
        "df_data.head()"
      ],
      "execution_count": 3,
      "outputs": [
        {
          "output_type": "execute_result",
          "data": {
            "text/html": [
              "<div>\n",
              "<style scoped>\n",
              "    .dataframe tbody tr th:only-of-type {\n",
              "        vertical-align: middle;\n",
              "    }\n",
              "\n",
              "    .dataframe tbody tr th {\n",
              "        vertical-align: top;\n",
              "    }\n",
              "\n",
              "    .dataframe thead th {\n",
              "        text-align: right;\n",
              "    }\n",
              "</style>\n",
              "<table border=\"1\" class=\"dataframe\">\n",
              "  <thead>\n",
              "    <tr style=\"text-align: right;\">\n",
              "      <th></th>\n",
              "      <th>SNo</th>\n",
              "      <th>ObservationDate</th>\n",
              "      <th>Province/State</th>\n",
              "      <th>Country/Region</th>\n",
              "      <th>Last Update</th>\n",
              "      <th>Confirmed</th>\n",
              "      <th>Deaths</th>\n",
              "      <th>Recovered</th>\n",
              "    </tr>\n",
              "  </thead>\n",
              "  <tbody>\n",
              "    <tr>\n",
              "      <th>245412</th>\n",
              "      <td>245413</td>\n",
              "      <td>03/11/2021</td>\n",
              "      <td>Altai Republic</td>\n",
              "      <td>Russia</td>\n",
              "      <td>2021-04-02 15:13:53</td>\n",
              "      <td>16379.0</td>\n",
              "      <td>181.0</td>\n",
              "      <td>16166.0</td>\n",
              "    </tr>\n",
              "    <tr>\n",
              "      <th>63795</th>\n",
              "      <td>63796</td>\n",
              "      <td>07/13/2020</td>\n",
              "      <td>Ostergotland</td>\n",
              "      <td>Sweden</td>\n",
              "      <td>2021-04-02 15:13:53</td>\n",
              "      <td>3411.0</td>\n",
              "      <td>224.0</td>\n",
              "      <td>0.0</td>\n",
              "    </tr>\n",
              "    <tr>\n",
              "      <th>122512</th>\n",
              "      <td>122513</td>\n",
              "      <td>09/30/2020</td>\n",
              "      <td>Himachal Pradesh</td>\n",
              "      <td>India</td>\n",
              "      <td>2021-04-02 15:13:53</td>\n",
              "      <td>14976.0</td>\n",
              "      <td>186.0</td>\n",
              "      <td>11390.0</td>\n",
              "    </tr>\n",
              "    <tr>\n",
              "      <th>151705</th>\n",
              "      <td>151706</td>\n",
              "      <td>11/08/2020</td>\n",
              "      <td>Islamabad</td>\n",
              "      <td>Pakistan</td>\n",
              "      <td>2021-04-02 15:13:53</td>\n",
              "      <td>21861.0</td>\n",
              "      <td>241.0</td>\n",
              "      <td>19120.0</td>\n",
              "    </tr>\n",
              "    <tr>\n",
              "      <th>22187</th>\n",
              "      <td>22188</td>\n",
              "      <td>05/06/2020</td>\n",
              "      <td>NaN</td>\n",
              "      <td>Barbados</td>\n",
              "      <td>2021-04-02 15:13:53</td>\n",
              "      <td>82.0</td>\n",
              "      <td>7.0</td>\n",
              "      <td>47.0</td>\n",
              "    </tr>\n",
              "  </tbody>\n",
              "</table>\n",
              "</div>"
            ],
            "text/plain": [
              "           SNo ObservationDate    Province/State  ... Confirmed Deaths  Recovered\n",
              "245412  245413      03/11/2021    Altai Republic  ...   16379.0  181.0    16166.0\n",
              "63795    63796      07/13/2020      Ostergotland  ...    3411.0  224.0        0.0\n",
              "122512  122513      09/30/2020  Himachal Pradesh  ...   14976.0  186.0    11390.0\n",
              "151705  151706      11/08/2020         Islamabad  ...   21861.0  241.0    19120.0\n",
              "22187    22188      05/06/2020               NaN  ...      82.0    7.0       47.0\n",
              "\n",
              "[5 rows x 8 columns]"
            ]
          },
          "metadata": {},
          "execution_count": 3
        }
      ]
    },
    {
      "cell_type": "markdown",
      "metadata": {
        "id": "67EHsr7sDEfk"
      },
      "source": [
        "Get data information from dataset"
      ]
    },
    {
      "cell_type": "code",
      "metadata": {
        "colab": {
          "base_uri": "https://localhost:8080/"
        },
        "id": "-QbE_SvFDFwJ",
        "outputId": "a2b8887d-a95c-4d87-d536-e4641f9c04ba"
      },
      "source": [
        "df_data.info()"
      ],
      "execution_count": 5,
      "outputs": [
        {
          "output_type": "stream",
          "name": "stdout",
          "text": [
            "<class 'pandas.core.frame.DataFrame'>\n",
            "Int64Index: 10000 entries, 245412 to 87867\n",
            "Data columns (total 8 columns):\n",
            " #   Column           Non-Null Count  Dtype  \n",
            "---  ------           --------------  -----  \n",
            " 0   SNo              10000 non-null  int64  \n",
            " 1   ObservationDate  10000 non-null  object \n",
            " 2   Province/State   7381 non-null   object \n",
            " 3   Country/Region   10000 non-null  object \n",
            " 4   Last Update      10000 non-null  object \n",
            " 5   Confirmed        10000 non-null  float64\n",
            " 6   Deaths           10000 non-null  float64\n",
            " 7   Recovered        10000 non-null  float64\n",
            "dtypes: float64(3), int64(1), object(4)\n",
            "memory usage: 703.1+ KB\n"
          ]
        }
      ]
    },
    {
      "cell_type": "markdown",
      "metadata": {
        "id": "mdrqmXY_Dcr3"
      },
      "source": [
        "Check if there are any missing values in the dataset"
      ]
    },
    {
      "cell_type": "code",
      "metadata": {
        "colab": {
          "base_uri": "https://localhost:8080/"
        },
        "id": "iu2pbUmPDWbi",
        "outputId": "1f2162fd-1316-4eb1-a8fb-c4d6f2072385"
      },
      "source": [
        "df_data.isnull().mean() * 100"
      ],
      "execution_count": 6,
      "outputs": [
        {
          "output_type": "execute_result",
          "data": {
            "text/plain": [
              "SNo                 0.00\n",
              "ObservationDate     0.00\n",
              "Province/State     26.19\n",
              "Country/Region      0.00\n",
              "Last Update         0.00\n",
              "Confirmed           0.00\n",
              "Deaths              0.00\n",
              "Recovered           0.00\n",
              "dtype: float64"
            ]
          },
          "metadata": {},
          "execution_count": 6
        }
      ]
    },
    {
      "cell_type": "markdown",
      "metadata": {
        "id": "D__DV6O_DlUt"
      },
      "source": [
        "Drop the missing values"
      ]
    },
    {
      "cell_type": "code",
      "metadata": {
        "id": "yd2t0K51DhTM"
      },
      "source": [
        "df = pd.DataFrame.dropna(df_data,axis=0,how='any')"
      ],
      "execution_count": 7,
      "outputs": []
    },
    {
      "cell_type": "markdown",
      "metadata": {
        "id": "-hLIsj4BDumy"
      },
      "source": [
        "Verify if all the missing vales are dropped"
      ]
    },
    {
      "cell_type": "code",
      "metadata": {
        "colab": {
          "base_uri": "https://localhost:8080/"
        },
        "id": "jxho0kccDtZZ",
        "outputId": "8813995c-b630-4221-b34a-e44a7052cf97"
      },
      "source": [
        "df.isnull().mean() * 100"
      ],
      "execution_count": 8,
      "outputs": [
        {
          "output_type": "execute_result",
          "data": {
            "text/plain": [
              "SNo                0.0\n",
              "ObservationDate    0.0\n",
              "Province/State     0.0\n",
              "Country/Region     0.0\n",
              "Last Update        0.0\n",
              "Confirmed          0.0\n",
              "Deaths             0.0\n",
              "Recovered          0.0\n",
              "dtype: float64"
            ]
          },
          "metadata": {},
          "execution_count": 8
        }
      ]
    },
    {
      "cell_type": "markdown",
      "metadata": {
        "id": "93g3KMzMD1mG"
      },
      "source": [
        "Retrieve all the unique Country associated with the dataset"
      ]
    },
    {
      "cell_type": "code",
      "metadata": {
        "colab": {
          "base_uri": "https://localhost:8080/"
        },
        "id": "rayMdZzRDyzd",
        "outputId": "a6eb8615-c5f1-4400-cac0-1572b8d1d6b4"
      },
      "source": [
        "df['Country/Region'].unique()"
      ],
      "execution_count": 9,
      "outputs": [
        {
          "output_type": "execute_result",
          "data": {
            "text/plain": [
              "array(['Russia', 'Sweden', 'India', 'Pakistan', 'Brazil', 'Chile', 'US',\n",
              "       'Mainland China', 'Canada', 'Japan', 'Netherlands', 'Spain',\n",
              "       'Australia', 'Peru', 'Mexico', 'Italy', 'Belgium', 'Hong Kong',\n",
              "       'France', 'Germany', 'Ukraine', 'UK', 'Colombia', 'Denmark',\n",
              "       'Taiwan', 'Macau', 'Others', 'China'], dtype=object)"
            ]
          },
          "metadata": {},
          "execution_count": 9
        }
      ]
    },
    {
      "cell_type": "code",
      "metadata": {
        "id": "fmGI72RrD7M1"
      },
      "source": [
        "df_without_lb = df.drop(['Country/Region'], axis=1)"
      ],
      "execution_count": 10,
      "outputs": []
    },
    {
      "cell_type": "markdown",
      "metadata": {
        "id": "ogyet0GgEFSu"
      },
      "source": [
        "Label Encoding : Encoding the categorical feature to numerical"
      ]
    },
    {
      "cell_type": "code",
      "metadata": {
        "colab": {
          "base_uri": "https://localhost:8080/",
          "height": 419
        },
        "id": "ZeiybBhfEAa6",
        "outputId": "3e1832b2-b029-4bd9-80c2-5393716acd0d"
      },
      "source": [
        "df_without_lb.loc[:,'Province/State'] = LabelEncoder().fit_transform(df.loc[:,'Province/State'].copy())\n",
        "df_without_lb.loc[:,'Country/Region'] = LabelEncoder().fit_transform(df.loc[:,'Country/Region'].copy())\n",
        "df_without_lb.loc[:,'Last Update'] = LabelEncoder().fit_transform(df.loc[:,'Last Update'].copy())\n",
        "df_without_lb.loc[:,'ObservationDate'] = LabelEncoder().fit_transform(df.loc[:,'ObservationDate'].copy())\n",
        "\n",
        "df_without_lb"
      ],
      "execution_count": 11,
      "outputs": [
        {
          "output_type": "execute_result",
          "data": {
            "text/html": [
              "<div>\n",
              "<style scoped>\n",
              "    .dataframe tbody tr th:only-of-type {\n",
              "        vertical-align: middle;\n",
              "    }\n",
              "\n",
              "    .dataframe tbody tr th {\n",
              "        vertical-align: top;\n",
              "    }\n",
              "\n",
              "    .dataframe thead th {\n",
              "        text-align: right;\n",
              "    }\n",
              "</style>\n",
              "<table border=\"1\" class=\"dataframe\">\n",
              "  <thead>\n",
              "    <tr style=\"text-align: right;\">\n",
              "      <th></th>\n",
              "      <th>SNo</th>\n",
              "      <th>ObservationDate</th>\n",
              "      <th>Province/State</th>\n",
              "      <th>Last Update</th>\n",
              "      <th>Confirmed</th>\n",
              "      <th>Deaths</th>\n",
              "      <th>Recovered</th>\n",
              "      <th>Country/Region</th>\n",
              "    </tr>\n",
              "  </thead>\n",
              "  <tbody>\n",
              "    <tr>\n",
              "      <th>245412</th>\n",
              "      <td>245413</td>\n",
              "      <td>111</td>\n",
              "      <td>11</td>\n",
              "      <td>156</td>\n",
              "      <td>16379.0</td>\n",
              "      <td>181.0</td>\n",
              "      <td>16166.0</td>\n",
              "      <td>21</td>\n",
              "    </tr>\n",
              "    <tr>\n",
              "      <th>63795</th>\n",
              "      <td>63796</td>\n",
              "      <td>312</td>\n",
              "      <td>400</td>\n",
              "      <td>156</td>\n",
              "      <td>3411.0</td>\n",
              "      <td>224.0</td>\n",
              "      <td>0.0</td>\n",
              "      <td>23</td>\n",
              "    </tr>\n",
              "    <tr>\n",
              "      <th>122512</th>\n",
              "      <td>122513</td>\n",
              "      <td>391</td>\n",
              "      <td>193</td>\n",
              "      <td>156</td>\n",
              "      <td>14976.0</td>\n",
              "      <td>186.0</td>\n",
              "      <td>11390.0</td>\n",
              "      <td>11</td>\n",
              "    </tr>\n",
              "    <tr>\n",
              "      <th>151705</th>\n",
              "      <td>151706</td>\n",
              "      <td>430</td>\n",
              "      <td>213</td>\n",
              "      <td>156</td>\n",
              "      <td>21861.0</td>\n",
              "      <td>241.0</td>\n",
              "      <td>19120.0</td>\n",
              "      <td>19</td>\n",
              "    </tr>\n",
              "    <tr>\n",
              "      <th>71953</th>\n",
              "      <td>71954</td>\n",
              "      <td>323</td>\n",
              "      <td>397</td>\n",
              "      <td>156</td>\n",
              "      <td>5447.0</td>\n",
              "      <td>81.0</td>\n",
              "      <td>4102.0</td>\n",
              "      <td>21</td>\n",
              "    </tr>\n",
              "    <tr>\n",
              "      <th>...</th>\n",
              "      <td>...</td>\n",
              "      <td>...</td>\n",
              "      <td>...</td>\n",
              "      <td>...</td>\n",
              "      <td>...</td>\n",
              "      <td>...</td>\n",
              "      <td>...</td>\n",
              "      <td>...</td>\n",
              "    </tr>\n",
              "    <tr>\n",
              "      <th>122116</th>\n",
              "      <td>122117</td>\n",
              "      <td>390</td>\n",
              "      <td>559</td>\n",
              "      <td>156</td>\n",
              "      <td>1029.0</td>\n",
              "      <td>31.0</td>\n",
              "      <td>0.0</td>\n",
              "      <td>23</td>\n",
              "    </tr>\n",
              "    <tr>\n",
              "      <th>95538</th>\n",
              "      <td>95539</td>\n",
              "      <td>355</td>\n",
              "      <td>78</td>\n",
              "      <td>156</td>\n",
              "      <td>684221.0</td>\n",
              "      <td>12418.0</td>\n",
              "      <td>0.0</td>\n",
              "      <td>26</td>\n",
              "    </tr>\n",
              "    <tr>\n",
              "      <th>275446</th>\n",
              "      <td>275447</td>\n",
              "      <td>188</td>\n",
              "      <td>214</td>\n",
              "      <td>174</td>\n",
              "      <td>1577.0</td>\n",
              "      <td>29.0</td>\n",
              "      <td>1538.0</td>\n",
              "      <td>25</td>\n",
              "    </tr>\n",
              "    <tr>\n",
              "      <th>228180</th>\n",
              "      <td>228181</td>\n",
              "      <td>66</td>\n",
              "      <td>384</td>\n",
              "      <td>156</td>\n",
              "      <td>38593.0</td>\n",
              "      <td>2740.0</td>\n",
              "      <td>0.0</td>\n",
              "      <td>16</td>\n",
              "    </tr>\n",
              "    <tr>\n",
              "      <th>234976</th>\n",
              "      <td>234977</td>\n",
              "      <td>83</td>\n",
              "      <td>291</td>\n",
              "      <td>156</td>\n",
              "      <td>260681.0</td>\n",
              "      <td>3859.0</td>\n",
              "      <td>254387.0</td>\n",
              "      <td>11</td>\n",
              "    </tr>\n",
              "  </tbody>\n",
              "</table>\n",
              "<p>7381 rows × 8 columns</p>\n",
              "</div>"
            ],
            "text/plain": [
              "           SNo  ObservationDate  ...  Recovered  Country/Region\n",
              "245412  245413              111  ...    16166.0              21\n",
              "63795    63796              312  ...        0.0              23\n",
              "122512  122513              391  ...    11390.0              11\n",
              "151705  151706              430  ...    19120.0              19\n",
              "71953    71954              323  ...     4102.0              21\n",
              "...        ...              ...  ...        ...             ...\n",
              "122116  122117              390  ...        0.0              23\n",
              "95538    95539              355  ...        0.0              26\n",
              "275446  275447              188  ...     1538.0              25\n",
              "228180  228181               66  ...        0.0              16\n",
              "234976  234977               83  ...   254387.0              11\n",
              "\n",
              "[7381 rows x 8 columns]"
            ]
          },
          "metadata": {},
          "execution_count": 11
        }
      ]
    },
    {
      "cell_type": "code",
      "metadata": {
        "colab": {
          "base_uri": "https://localhost:8080/"
        },
        "id": "W6rWD5kdEMWs",
        "outputId": "61c0a126-2416-47ad-8826-7b85ac61c0d7"
      },
      "source": [
        "df_without_lb_np  = df_without_lb.to_numpy()\n",
        "df_without_lb_np.shape"
      ],
      "execution_count": 12,
      "outputs": [
        {
          "output_type": "execute_result",
          "data": {
            "text/plain": [
              "(7381, 8)"
            ]
          },
          "metadata": {},
          "execution_count": 12
        }
      ]
    },
    {
      "cell_type": "code",
      "metadata": {
        "id": "MC_H2ptiESBX"
      },
      "source": [
        "# Selecting top 10 features using chi2 score\n",
        "from sklearn.feature_selection import SelectKBest\n",
        "from sklearn.feature_selection import chi2\n",
        "chi2_top10=SelectKBest(chi2,k=8)\n",
        "chi2_test=chi2_top10.fit_transform(df_without_lb,df['Country/Region'])"
      ],
      "execution_count": 13,
      "outputs": []
    },
    {
      "cell_type": "markdown",
      "metadata": {
        "id": "FSszZvEfEcGk"
      },
      "source": [
        "Retrive all the unique country/regions in a dataset"
      ]
    },
    {
      "cell_type": "code",
      "metadata": {
        "colab": {
          "base_uri": "https://localhost:8080/"
        },
        "id": "8LubYJ6VEY_S",
        "outputId": "c01c9456-998c-4aa8-8539-1fcb8c9551b6"
      },
      "source": [
        "df['Country/Region'].unique()"
      ],
      "execution_count": 14,
      "outputs": [
        {
          "output_type": "execute_result",
          "data": {
            "text/plain": [
              "array(['Russia', 'Sweden', 'India', 'Pakistan', 'Brazil', 'Chile', 'US',\n",
              "       'Mainland China', 'Canada', 'Japan', 'Netherlands', 'Spain',\n",
              "       'Australia', 'Peru', 'Mexico', 'Italy', 'Belgium', 'Hong Kong',\n",
              "       'France', 'Germany', 'Ukraine', 'UK', 'Colombia', 'Denmark',\n",
              "       'Taiwan', 'Macau', 'Others', 'China'], dtype=object)"
            ]
          },
          "metadata": {},
          "execution_count": 14
        }
      ]
    },
    {
      "cell_type": "markdown",
      "metadata": {
        "id": "H08_omgjE2oK"
      },
      "source": [
        "Applying Elbow method to find out number of k number of cluster"
      ]
    },
    {
      "cell_type": "code",
      "metadata": {
        "colab": {
          "base_uri": "https://localhost:8080/",
          "height": 312
        },
        "id": "VsIet2SnF3FU",
        "outputId": "24c54b8a-43de-43a0-e406-fa62289c959b"
      },
      "source": [
        "# Applying elbow method to see how many clusters would be a good fit for the dataset\n",
        "sc = [KMeans(n_clusters=i+2).fit(chi2_test).inertia_ for i in range(8)]\n",
        "sns.lineplot(np.arange(2,10),sc)\n",
        "plt.xlabel('Number of clusters')\n",
        "plt.ylabel(\"Inertia\")\n",
        "plt.title(\"Elbow method to find out k number of clusters\")"
      ],
      "execution_count": 24,
      "outputs": [
        {
          "output_type": "execute_result",
          "data": {
            "text/plain": [
              "Text(0.5, 1.0, 'Elbow method to find out k number of clusters')"
            ]
          },
          "metadata": {},
          "execution_count": 24
        },
        {
          "output_type": "display_data",
          "data": {
            "image/png": "[encoded data removed]",
            "text/plain": [
              "<Figure size 432x288 with 1 Axes>"
            ]
          },
          "metadata": {
            "needs_background": "light"
          }
        }
      ]
    },
    {
      "cell_type": "code",
      "metadata": {
        "colab": {
          "base_uri": "https://localhost:8080/",
          "height": 266
        },
        "id": "FEx6mq_KGRmx",
        "outputId": "92cb1892-c727-4cdf-dbba-517d21d50051"
      },
      "source": [
        "# GMM Clustering on the features extracted using chi2 test\n",
        "from sklearn.mixture import GaussianMixture\n",
        "import numpy \n",
        "import matplotlib\n",
        "import matplotlib.pyplot as plt\n",
        "\n",
        "gmm=GaussianMixture(n_components=3)\n",
        "gmm.fit(chi2_test)\n",
        "\n",
        "#pregmmdictions from gmm\n",
        "lbl = gmm.predict(chi2_test)\n",
        "df_gmm = pd.DataFrame(lbl)\n",
        "df_gmm\n",
        "clusters = numpy.unique(df_gmm)\n",
        "# create scatter plot for samples from each cluster\n",
        "for clst in clusters:\n",
        "\t# retrievet index of row for samples with this cluster\n",
        "\trow_index = numpy.where(df_gmm == clst)\n",
        "\t# creating scatter of the samples from features first,second and third\n",
        "\tmatplotlib.pyplot.scatter(chi2_test[row_index, 0], chi2_test[row_index, 1],chi2_test[row_index, 2])\n",
        "# draw a plot using matplot library\n",
        "matplotlib.pyplot.show()"
      ],
      "execution_count": 27,
      "outputs": [
        {
          "output_type": "display_data",
          "data": {
            "image/png": "[encoded data removed]",
            "text/plain": [
              "<Figure size 432x288 with 1 Axes>"
            ]
          },
          "metadata": {
            "needs_background": "light"
          }
        }
      ]
    },
    {
      "cell_type": "markdown",
      "metadata": {
        "id": "FK_88fLyGlBw"
      },
      "source": [
        "Finding out silhouette score for cluster=3 and gaussian model with chi square test"
      ]
    },
    {
      "cell_type": "code",
      "metadata": {
        "colab": {
          "base_uri": "https://localhost:8080/"
        },
        "id": "DzuZ1CKEGgrx",
        "outputId": "b84b9060-fdb6-4687-ca31-ed62a8a561b1"
      },
      "source": [
        "from sklearn.metrics import  silhouette_score\n",
        "sil_avg = silhouette_score(chi2_test, df_gmm[0])\n",
        "print(\"For n_clusters = 3 and GaussianMixture model with chi2 test\",\"The silhouette_score is :\", sil_avg)"
      ],
      "execution_count": 28,
      "outputs": [
        {
          "output_type": "stream",
          "name": "stdout",
          "text": [
            "For n_clusters = 3 and GaussianMixture model with chi2 test The silhouette_score is : 0.08312227189261377\n"
          ]
        }
      ]
    },
    {
      "cell_type": "code",
      "metadata": {
        "colab": {
          "base_uri": "https://localhost:8080/"
        },
        "id": "DpxMownTGqIy",
        "outputId": "91a63c20-4109-482e-85da-c1542c17af13"
      },
      "source": [
        "from sklearn.metrics.cluster import adjusted_rand_score\n",
        "\n",
        "adjusted_rand_score(df['Country/Region'],df_gmm[0])"
      ],
      "execution_count": 29,
      "outputs": [
        {
          "output_type": "execute_result",
          "data": {
            "text/plain": [
              "0.13254657816408535"
            ]
          },
          "metadata": {},
          "execution_count": 29
        }
      ]
    }
  ]
}